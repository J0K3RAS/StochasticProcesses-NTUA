{
 "cells": [
  {
   "cell_type": "markdown",
   "id": "pressing-iraqi",
   "metadata": {},
   "source": [
    "Μπεκιάρης Χαράλαμπος\n",
    "\n",
    "Σχολή ΕΜΦΕ, ΕΜΠ\n",
    "\n",
    "6ο εξάμηνο\n",
    "\n",
    "Α.Μ.: ge18088\n",
    "    \n",
    "## Παραδοτέο 1\n"
   ]
  },
  {
   "cell_type": "markdown",
   "id": "correct-breed",
   "metadata": {},
   "source": [
    "Αντιγράφουμε τον κώδικα του τέννις από το προηγούμενο εργαστήριο."
   ]
  },
  {
   "cell_type": "code",
   "execution_count": 1,
   "id": "informed-monday",
   "metadata": {},
   "outputs": [],
   "source": [
    "import random\n",
    "random.seed(2018)  # for reproducibility\n",
    "from simple_markov_chain_lib import markov_chain\n",
    "\n",
    "p = 0.6\n",
    "\n",
    "# A dictionary for the initial distibution. \n",
    "# We prescribe the initial distribution\n",
    "init_probs = {\"0-0\": 1.0} "
   ]
  },
  {
   "cell_type": "markdown",
   "id": "presidential-beach",
   "metadata": {},
   "source": [
    "Θα βάλουμε σε μία συνάρτηση την προσμοίωση ώστε να είναι ευκολότερο να την τρέχουμε για διαφορετικές τιμές του p."
   ]
  },
  {
   "cell_type": "code",
   "execution_count": 2,
   "id": "nutritional-factor",
   "metadata": {},
   "outputs": [],
   "source": [
    "def simulate(mc,N):\n",
    "    r = 0\n",
    "    for j in range(N):\n",
    "        mc.start() # Start a new Chain\n",
    "        while True: # Move the chain until player A or B is the winner\n",
    "            mc.move()\n",
    "            if mc.running_state == \"GameA\":\n",
    "                r += 1 # Increase the success number of the experiment by 1/N\n",
    "                break              # Stop the loop, the game has ended\n",
    "            elif mc.running_state == \"GameB\":\n",
    "                break              # Stop the loop\n",
    "\n",
    "    phat = r/N\n",
    "    return(phat)"
   ]
  },
  {
   "cell_type": "markdown",
   "id": "cross-theorem",
   "metadata": {},
   "source": [
    "Φτιάχνουμε το ζητούμενο διάστημα x που αντιπροσωπεύει τις πιθανότητες. Στην λίστα y όταν αρχίσει η προσομοίωση θα αποθηκευτεί το αποτέλεσμα του πειράματος Monte-Carlo για κάθε τιμή του p."
   ]
  },
  {
   "cell_type": "code",
   "execution_count": 3,
   "id": "activated-background",
   "metadata": {},
   "outputs": [],
   "source": [
    "import numpy as np  # numerical computations library. We will call it np in our code\n",
    "\n",
    "# Create a list of real numbers from start to end by step\n",
    "start, end, step = 0.02, 1.00, 0.02\n",
    "x = np.arange(start, end, step)  # x = [0.02, 0.04, ..., 0.96, 0.98]\n",
    "y = []\n",
    "\n",
    "for i in range(len(x)):\n",
    "    p = x[i]\n",
    "    # A dictionary for the transition probability  matrix. \n",
    "    # Every state-key corresponds to a list with tuples of (Next_State,Probability) \n",
    "    markov_table = {\n",
    "        \"0-0\"   : {\"15-0\" : p, \"0-15\"   : 1-p},\n",
    "        \"15-0\"  : {\"30-0\" : p, \"15-15\"  : 1-p},\n",
    "        \"0-15\"  : {\"15-15\": p, \"0-30\"   : 1-p},\n",
    "        \"15-15\" : {\"30-15\": p, \"15-30\"  : 1-p},\n",
    "        \"30-0\"  : {\"40-0\" : p, \"30-15\"  : 1-p},\n",
    "        \"0-30\"  : {\"15-30\": p, \"0-40\"   : 1-p},\n",
    "        \"30-15\" : {\"40-15\": p, \"Deuce\"  : 1-p},\n",
    "        \"15-30\" : {\"Deuce\": p, \"15-40\"  : 1-p},\n",
    "        \"40-0\"  : {\"GameA\": p, \"40-15\"  : 1-p},\n",
    "        \"0-40\"  : {\"15-40\": p, \"GameB\"  : 1-p},\n",
    "        \"40-15\" : {\"GameA\": p, \"AdvA\"   : 1-p},\n",
    "        \"15-40\" : {\"AdvB\" : p, \"GameB\"  : 1-p},\n",
    "        \"Deuce\" : {\"AdvA\" : p, \"AdvB\"   : 1-p},\n",
    "        \"AdvA\"  : {\"GameA\": p, \"Deuce\"  : 1-p},\n",
    "        \"AdvB\"  : {\"Deuce\": p, \"GameB\"  : 1-p},\n",
    "        \"GameA\" : {\"GameA\": 1.0},\n",
    "        \"GameB\" : {\"GameB\": 1.0}\n",
    "    }\n",
    "    mc = markov_chain(markov_table, init_probs)\n",
    "    \n",
    "    phat = simulate(mc,10000)\n",
    "    y.append(phat)\n",
    "    "
   ]
  },
  {
   "cell_type": "markdown",
   "id": "according-cause",
   "metadata": {},
   "source": [
    "Τώρα θα κάνουμε plot τα αποτελέσματα των πειραμάτων."
   ]
  },
  {
   "cell_type": "code",
   "execution_count": 8,
   "id": "strange-snowboard",
   "metadata": {},
   "outputs": [
    {
     "data": {
      "image/png": "[encoded data removed]",
      "text/plain": [
       "<Figure size 432x288 with 1 Axes>"
      ]
     },
     "metadata": {
      "needs_background": "light"
     },
     "output_type": "display_data"
    }
   ],
   "source": [
    "import matplotlib.pyplot as plt  # library for plotting. We will call it plt in our code\n",
    "\n",
    "# to plot the results in the notebook:\n",
    "%matplotlib inline\n",
    "\n",
    "# Let's plot (x,y)\n",
    "plt.figure()\n",
    "plt.plot(x, y)\n",
    "plt.plot(x,x)\n",
    "# Specify some extra attributes\n",
    "plt.xlabel('p')\n",
    "plt.ylabel('Win rate')\n",
    "plt.title('Win rate for player A, given the possibility p to score a point')\n",
    "plt.grid(True)\n"
   ]
  },
  {
   "cell_type": "markdown",
   "id": "occupational-secretariat",
   "metadata": {},
   "source": [
    "Η πορτοκαλί γραμμή είναι η y=x. Παρατηρούμε πως η μπλε γραμμή είναι συμμετρική ως προς το σημείο τομής της με την y=x. Όπως ήταν αναμενόμενο για p<0.5 είναι μικρή η πιθανότητα να κερδίσει το παιχνίδι ο Α, ενώ για p>0.5 έχει μεγαλύτερη πιθανότητα. Η πιθανότητα αυξάνεται εκεθετικά στην αρχή, και στην συνέχεια αλλάζει η κυρτότητα με αποτέλεσμα να κινείται ασυμπτωματικά ως προς την y=1."
   ]
  },
  {
   "cell_type": "markdown",
   "id": "current-salem",
   "metadata": {},
   "source": [
    "## Παραδοτέο 2\n"
   ]
  },
  {
   "cell_type": "code",
   "execution_count": 9,
   "id": "polish-citizen",
   "metadata": {},
   "outputs": [],
   "source": [
    "from simple_markov_chain_lib import markov_chain  # import markov chain simulator\n",
    "\n",
    "# Transition Table\n",
    "markov_table = {\n",
    "    0: {0: 2/5, 1: 1/2, 2: 1/10},  # from state 0 we move to state 1 with prob 0.5 and to state 2 with 0.5\n",
    "    1: {0: 1/3, 3: 2/3},\n",
    "    2: {2: 1.},\n",
    "    3: {0: .5, 1: 1/8, 3: 1/4, 4: 1/8},\n",
    "    4: {4: 1.}\n",
    "}\n",
    "\n",
    "# Initial Distribution\n",
    "init_dist = {0: 1.}  # we start from state 0 with probability 1\n",
    "\n",
    "mc = markov_chain(markov_table, init_dist)"
   ]
  },
  {
   "cell_type": "code",
   "execution_count": 10,
   "id": "imposed-terminology",
   "metadata": {},
   "outputs": [],
   "source": [
    "import statistics as stat\n",
    "\n",
    "M = 30\n",
    "y = []\n",
    "\n",
    "for k in range(5,13):\n",
    "    res = []\n",
    "    sample_size = 2**k\n",
    "    for j in range(M):\n",
    "        running_total = 0\n",
    "        for i in range(sample_size):\n",
    "            mc.start()\n",
    "            while mc.running_state != 2 and mc.running_state != 4:\n",
    "                mc.move()\n",
    "            running_total += mc.steps  # steps it took to be absorbed\n",
    "\n",
    "        mc_estimate = running_total / sample_size\n",
    "        res.append(mc_estimate)\n",
    "    y.append(stat.variance(res))\n",
    "            "
   ]
  },
  {
   "cell_type": "code",
   "execution_count": 18,
   "id": "stock-letters",
   "metadata": {},
   "outputs": [
    {
     "data": {
      "text/plain": [
       "<Figure size 432x288 with 0 Axes>"
      ]
     },
     "execution_count": 18,
     "metadata": {},
     "output_type": "execute_result"
    },
    {
     "data": {
      "image/png": "[encoded data removed]",
      "text/plain": [
       "<Figure size 864x504 with 2 Axes>"
      ]
     },
     "metadata": {
      "needs_background": "light"
     },
     "output_type": "display_data"
    },
    {
     "data": {
      "text/plain": [
       "<Figure size 432x288 with 0 Axes>"
      ]
     },
     "metadata": {},
     "output_type": "display_data"
    }
   ],
   "source": [
    "import numpy as np  # numerical computations library. We will call it np in our code\n",
    "\n",
    "# Create a list of real numbers from start to end by step\n",
    "start, end, step = 0.02, 1.00, 0.02\n",
    "x = [2**i for i in range(5,13)]\n",
    "\n",
    "import matplotlib.pyplot as plt  # library for plotting. We will call it plt in our code\n",
    "\n",
    "# to plot the results in the notebook:\n",
    "%matplotlib inline\n",
    "\n",
    "plt.figure(figsize=(12, 7))  # define figure size\n",
    "\n",
    "# Right Axes\n",
    "plt.subplot(1, 2, 1)  # setup subplots 1-row, 2-cols, select the 1st\n",
    "plt.plot(x, y)\n",
    "plt.title('Linear Axis')\n",
    "plt.grid(True)  # add grid-lines\n",
    "\n",
    "# Left Axes\n",
    "plt.subplot(1, 2, 2) # select the 2nd subplot\n",
    "plt.loglog(x, y, base=2)\n",
    "plt.xlabel('x')\n",
    "plt.title('Log-log Axis')\n",
    "plt.grid(True)\n",
    "\n",
    "plt.subplots_adjust(wspace = 0.5)  # specify the width space\n",
    "plt.figure()\n"
   ]
  },
  {
   "cell_type": "code",
   "execution_count": 19,
   "id": "informal-death",
   "metadata": {},
   "outputs": [
    {
     "data": {
      "text/plain": [
       "array([-1.03507117,  7.13394156])"
      ]
     },
     "execution_count": 19,
     "metadata": {},
     "output_type": "execute_result"
    }
   ],
   "source": [
    "newx = np.log2(x)\n",
    "newy = np.log2(y)\n",
    "\n",
    "np.polyfit(newx,newy,deg=1)"
   ]
  },
  {
   "cell_type": "markdown",
   "id": "active-density",
   "metadata": {},
   "source": [
    "Όπως ήταν θεωρητικά αναμενόμενο η διασπορά φθίνει εκθετικά καθώς αυξάνουμε το μέγεθος του δείγματος. Επομένως όπως περιμενάμε, σε λογαριθμική κλίμακα βλέπουμε μια φθίνουσα ευθεία. \n",
    "\n",
    "Επομένως θα παρεμβάλλουμε στα δεδομένα (σε λογαριθμική κλίμακα) ένα πολυώνυμο πρώτου βαθμού, δηλαδή ευθεία της μορφής $ y=ax+b $, όπου βρήκαμε την κλίση $ a = -1.035 $"
   ]
  }
 ],
 "metadata": {
  "kernelspec": {
   "display_name": "Python 3",
   "language": "python",
   "name": "python3"
  },
  "language_info": {
   "codemirror_mode": {
    "name": "ipython",
    "version": 3
   },
   "file_extension": ".py",
   "mimetype": "text/x-python",
   "name": "python",
   "nbconvert_exporter": "python",
   "pygments_lexer": "ipython3",
   "version": "3.8.8"
  }
 },
 "nbformat": 4,
 "nbformat_minor": 5
}
