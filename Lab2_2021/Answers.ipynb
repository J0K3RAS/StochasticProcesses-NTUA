{
 "cells": [
  {
   "cell_type": "markdown",
   "metadata": {},
   "source": [
    "Μπεκιάρης Χαράλαμπος\n",
    "\n",
    "Σχολή ΕΜΦΕ, 6ο εξάμ.\n",
    "\n",
    "ΑΜ: ge18088\n",
    "\n",
    "## Aσκήσεις 35-37\n",
    "\n",
    "Πρέπει να επαναλάβουμε για διάφορες τιμές του $Μ$ τα $20$ πρώτα βήματα της αλυσίδας. Θα υπολογίσουμε πόσες φορές συνέβη το ενδεχόμενο $\\{X_{20}=1\\}$. Ο παρακάτω κώδικας παραμένει ίδιος από την εκφώνηση: "
   ]
  },
  {
   "cell_type": "code",
   "execution_count": 1,
   "metadata": {},
   "outputs": [],
   "source": [
    "import random\n",
    "random.seed(2018)  # for reproducibility\n",
    "from simple_markov_chain_lib import markov_chain\n",
    "\n",
    "p = 1/6\n",
    "\n",
    "# A dictionary for the initial distibution. \n",
    "# We prescribe the initial distribution\n",
    "init_probs = {3: 1.0} \n",
    " \n",
    "# A dictionary for the transition probability  matrix. \n",
    "# Every state-key corresponds to a list with tuples of (Next_State,Probability) \n",
    "markov_table = {\n",
    "    1: {2: 1.},\n",
    "    2: {2: 2/3, 3: 1/3},\n",
    "    3: {1: p, 2: 1-p}\n",
    "}\n",
    " \n",
    "# Ok... we are ready now\n",
    "# Let's construct a Markov Chain. So let's call the constructor\n",
    "mc = markov_chain(markov_table, init_probs)"
   ]
  },
  {
   "cell_type": "markdown",
   "metadata": {},
   "source": [
    "Στην συνέχεια θα ορίσουμε την συνάρτηση $sim(chain,N,steps)$ που θα προσομοιώνει $Ν$ φορές τα πρώτα 20 βήματα (param. $steps$) μιας αλυσίδας $chain$ και θα επιστρέφει το πλήθος των φορών που έχει συμβεί το γεγονός $\\{X_{steps}=1\\}$"
   ]
  },
  {
   "cell_type": "code",
   "execution_count": 2,
   "metadata": {},
   "outputs": [],
   "source": [
    "## Simulation\n",
    "def sim(chain,Ν,steps):\n",
    "    counter = 0 \n",
    "    for i in range(Ν):\n",
    "        chain.start()  # new experiment\n",
    "        for j in range(steps):  # do #steps\n",
    "            mc.move()\n",
    "        if mc.running_state == 1:  \n",
    "            counter += 1\n",
    "    return counter "
   ]
  },
  {
   "cell_type": "markdown",
   "metadata": {},
   "source": [
    "Tώρα μπορούμε να καλέσουμε την παραπάνω συνάρτηση $sim$ $50$ φορές και να αποθηκεύσουμε σε λίστα τα αποτελέσματα διαιρεμένα κατά $Ν$."
   ]
  },
  {
   "cell_type": "code",
   "execution_count": 5,
   "metadata": {},
   "outputs": [],
   "source": [
    "## Experiment parameters\n",
    "N = 20000     # number of samples\n",
    "steps = 20   # the target time\n",
    "M = 50       # The repitition number for each Monte-Carlo experiment\n",
    "\n",
    "results = [] # Store experiment results\n",
    "for i in range(M):\n",
    "    res = sim(mc,N,steps)\n",
    "    results.append(res/N)"
   ]
  },
  {
   "cell_type": "markdown",
   "metadata": {},
   "source": [
    "Τέλος υπολογίζουμε την ζητούμενη μέση τιμή και διασπορά:"
   ]
  },
  {
   "cell_type": "code",
   "execution_count": 6,
   "metadata": {},
   "outputs": [
    {
     "name": "stdout",
     "output_type": "stream",
     "text": [
      " \n",
      "    The sample mean is 0.03998 and the sample variance is 0.00000\n",
      "    \n"
     ]
    }
   ],
   "source": [
    "import statistics as stat ## import the library statistics.\n",
    "print(\n",
    "    \"\"\" \n",
    "    The sample mean is {0:.5f} and the sample variance is {1:.5f}\n",
    "    \"\"\".format(stat.mean(results), stat.variance(results))\n",
    ")\n",
    "    ## compute the SAMPLE mean and variance of the elements in our list keeping only 5 decimal digits"
   ]
  },
  {
   "cell_type": "markdown",
   "metadata": {},
   "source": [
    "### Aπαντήσεις\n",
    "#### Ερώτηση 1.\n",
    "* Για $Ν=200$ η μέση τιμή είναι: $0.04008$ \n",
    "* Για $Ν=20,000$ η μέση τιμή είναι:  $0.03999$ \n",
    "\n",
    "#### Ερώτηση 3.\n",
    "Θεωρητικά αναμενόμενη τιμή:\n",
    "$$ p^{(n)}_{11} = 0.04+(0.48-0.36i)(-1/6 + i/6)^n+(0.48+0.36i)(-1/6 - i/6)^n$$\n",
    "\n",
    "Για n=20: $ p^{20}_{11}= 0.04 $\n",
    "Επομένως η θεωρητικά αναμενόμενη τιμή είναι πολύ κοντά σε αυτή που υπολογίσαμε παραπάνω.\n",
    "\n",
    "#### Ερώτηση 3.\n",
    "* Για $Ν=200$ η διασπορά είναι: $0.00012$\n",
    "* Για $Ν=20,000$ η διασπορά είναι: $0.00000$\n",
    "\n",
    "#### Ερώτηση 4.\n",
    "Δοκιμάζουμε να αλλάξουμε την αρχική κατανομή init_ probs σε {3: 1.0} και τρέχουμε τον κώδικα.\n",
    "Αν και βάλαμε random.seed(2018) έχω τρέξει το κομμάτι του κώδικα που υπολογίζει την πιθανότητα πολλές φορές οπότε η γεννήτρια δεν βρίσκεται στην ίδια κατάσταση ώστε να να επαναλαμβάνονται τα νούμερα.\n",
    "* Για $Ν=200$\n",
    "    * The sample mean is 0.03890 and the sample variance is 0.00012\n",
    "* Για $Ν=20000$\n",
    "    * The sample mean is 0.04001 and the sample variance is 0.00000\n",
    "    \n",
    "Παρατηρούμε ότι υπάρχει μια μικρή διαφορά όμως δεν είναι ουσιαστική. Για 200 βήματα η διαφορά στην μέση τιμή είναι $e_{200}=|0.04008-0.03890|=0.00118$, ενώ για 20,000 βήματα $e_{20000}=|0.03999-0.04001|=0.00005$\n",
    "\n",
    "Δηλαδή, $$\\lim_{n \\to +\\infty} e_{n} = 0$$"
   ]
  },
  {
   "cell_type": "markdown",
   "metadata": {},
   "source": [
    "## Άσκηση 40\n",
    "\n",
    "Ο χώρος καταστάσεων αποτελείται από 17 καταστάσεις, μία κατάσταση για κάθε κόμβο του διαγράμματος της εκφώνησης. Ο Α έχει πιθανότητα να πάρει πόντο $p=0.6$, ενώ να χάσει $q=1-p=0.4$\n",
    "\n",
    "Κατασκευάζουμε κατά τα γνωστά τον πίνακα μεταβάσεων και την αρχική κατανομή σύμφωνα με το διάγραμμα."
   ]
  },
  {
   "cell_type": "code",
   "execution_count": 1,
   "metadata": {},
   "outputs": [],
   "source": [
    "import random\n",
    "random.seed(2018)  # for reproducibility\n",
    "from simple_markov_chain_lib import markov_chain\n",
    "\n",
    "p = 0.6\n",
    "\n",
    "# A dictionary for the initial distibution. \n",
    "# We prescribe the initial distribution\n",
    "init_probs = {\"0-0\": 1.0} \n",
    " \n",
    "# A dictionary for the transition probability  matrix. \n",
    "# Every state-key corresponds to a list with tuples of (Next_State,Probability) \n",
    "markov_table = {\n",
    "    \"0-0\"   : {\"15-0\" : p, \"0-15\"   : 1-p},\n",
    "    \"15-0\"  : {\"30-0\" : p, \"15-15\"  : 1-p},\n",
    "    \"0-15\"  : {\"15-15\": p, \"0-30\"   : 1-p},\n",
    "    \"15-15\" : {\"30-15\": p, \"15-30\"  : 1-p},\n",
    "    \"30-0\"  : {\"40-0\" : p, \"30-15\"  : 1-p},\n",
    "    \"0-30\"  : {\"15-30\": p, \"0-40\"   : 1-p},\n",
    "    \"30-15\" : {\"40-15\": p, \"Deuce\"  : 1-p},\n",
    "    \"15-30\" : {\"Deuce\": p, \"15-40\"  : 1-p},\n",
    "    \"40-0\"  : {\"GameA\": p, \"40-15\"  : 1-p},\n",
    "    \"0-40\"  : {\"15-40\": p, \"GameB\"  : 1-p},\n",
    "    \"40-15\" : {\"GameA\": p, \"AdvA\"   : 1-p},\n",
    "    \"15-40\" : {\"AdvB\" : p, \"GameB\"  : 1-p},\n",
    "    \"Deuce\" : {\"AdvA\" : p, \"AdvB\"   : 1-p},\n",
    "    \"AdvA\"  : {\"GameA\": p, \"Deuce\"  : 1-p},\n",
    "    \"AdvB\"  : {\"Deuce\": p, \"GameB\"  : 1-p},\n",
    "    \"GameA\" : {\"GameA\": 1.0},\n",
    "    \"GameB\" : {\"GameB\": 1.0}\n",
    "}\n",
    " \n",
    "# Ok... we are ready now\n",
    "# Let's construct a Markov Chain. So let's call the constructor\n",
    "mc = markov_chain(markov_table, init_probs)"
   ]
  },
  {
   "cell_type": "markdown",
   "metadata": {},
   "source": [
    "Θα κάνουμε ένα πείραμα monte carlo όμοια με την προηγούμενη άσκηση. Θα βάλουμε του παίκτες Α, Β να παίξουν 100 αγώνες τέννις, και θα μετρήσουμε πόσες φορές κερδίζει ο Α."
   ]
  },
  {
   "cell_type": "code",
   "execution_count": 8,
   "metadata": {},
   "outputs": [
    {
     "name": "stdout",
     "output_type": "stream",
     "text": [
      "The possibility for player A to be the winner is: 0.75\n"
     ]
    }
   ],
   "source": [
    "N = 100 # Number of samples\n",
    "r = 0   # Count the number the event {GameA} occurs\n",
    "for j in range(N):\n",
    "    mc.start() # Start a new Chain\n",
    "    while True: # Move the chain until player A or B is the winner\n",
    "        mc.move()\n",
    "        if mc.running_state == \"GameA\":\n",
    "            r += 1 # Increase the success number of the experiment by 1/N\n",
    "            break              # Stop the loop, the game has ended\n",
    "        elif mc.running_state == \"GameB\":\n",
    "            break              # Stop the loop\n",
    "            \n",
    "phat = r/N\n",
    "print(\"The possibility for player A to be the winner is: {}\".format(phat))"
   ]
  },
  {
   "cell_type": "markdown",
   "metadata": {},
   "source": [
    "Μπορούμε να προχωρήσουμε την άσκηση και να εκτελέσουμε 100 πειράματα Monte Carlo. Σε κάθε πείραμα οι παίκτες Α,Β θα παίξουν 100 σετ τέννις και αν κερδίσει ο Α, τότε οι επίτυχιες του για το συγκεκριμένο πείραμα αυξάνονται κατά 1%."
   ]
  },
  {
   "cell_type": "code",
   "execution_count": 6,
   "metadata": {},
   "outputs": [],
   "source": [
    "results = [0,]*100 # Results of each Motne-Carlo experiment will be saved here\n",
    "for i in range(100):\n",
    "    for j in range(100):\n",
    "        mc.start() # Start a new Chain\n",
    "        while True: # Move the chain until player A or B is the winner\n",
    "            mc.move()\n",
    "            if mc.running_state == \"GameA\":\n",
    "                results[i] += 0.01 # Increase the success number of the experiment by 1/N\n",
    "                break              # Stop the loop, the game has ended\n",
    "            elif mc.running_state == \"GameB\":\n",
    "                break              # Stop the loop"
   ]
  },
  {
   "cell_type": "code",
   "execution_count": 7,
   "metadata": {},
   "outputs": [
    {
     "name": "stdout",
     "output_type": "stream",
     "text": [
      " \n",
      "    The sample mean is 0.73430 and the sample variance is 0.00169\n",
      "    \n"
     ]
    }
   ],
   "source": [
    "import statistics as stat ## import the library statistics.\n",
    "print(\n",
    "    \"\"\" \n",
    "    The sample mean is {0:.5f} and the sample variance is {1:.5f}\n",
    "    \"\"\".format(stat.mean(results), stat.variance(results))\n",
    ")"
   ]
  },
  {
   "cell_type": "code",
   "execution_count": null,
   "metadata": {},
   "outputs": [],
   "source": []
  }
 ],
 "metadata": {
  "kernelspec": {
   "display_name": "Python 3",
   "language": "python",
   "name": "python3"
  },
  "language_info": {
   "codemirror_mode": {
    "name": "ipython",
    "version": 3
   },
   "file_extension": ".py",
   "mimetype": "text/x-python",
   "name": "python",
   "nbconvert_exporter": "python",
   "pygments_lexer": "ipython3",
   "version": "3.9.2"
  }
 },
 "nbformat": 4,
 "nbformat_minor": 4
}
