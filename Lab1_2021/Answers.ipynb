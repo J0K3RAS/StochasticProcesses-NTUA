{
 "cells": [
  {
   "cell_type": "markdown",
   "metadata": {},
   "source": [
    "Μπεκιάρης Χαράλαμπος\n",
    "\n",
    "Σχολή ΕΜΦΕ, 6ο Εξάμηνο\n",
    "\n",
    "ΑΜ: ge18088"
   ]
  },
  {
   "cell_type": "markdown",
   "metadata": {},
   "source": [
    "## Εργαστήριο 1 (Άσκηση 5)\n",
    "Ο χώρος καταστάσεων είναι: $$X = \\{Κ, Β, Σ, Υ, Μ\\}$$\n",
    "Το έντομο αρχικά βρίσκεται στο μπάνιο, επομένως:\n",
    "$$ \\pi_0 = (0, 0, 0, 0, 1) $$\n",
    "Ο πίνακας μετάβασης είναι ο εξής:\n",
    "$$\n",
    "P = \n",
    "\\begin{pmatrix}\n",
    "0   & 1/2 & 1/2 &  0  & 0 \\\\\n",
    "1/2 &  0  & 1/2 & 0  & 0 \\\\\n",
    "1/4 & 1/4 &  0  & 1/4 & 1/4 \\\\\n",
    "0   &  0  &  1  &  0  & 0 \\\\\n",
    "0   &  0  &  1  &  0  & 0 \n",
    "\\end{pmatrix}\n",
    "$$"
   ]
  },
  {
   "cell_type": "code",
   "execution_count": 31,
   "metadata": {
    "scrolled": true
   },
   "outputs": [
    {
     "name": "stdout",
     "output_type": "stream",
     "text": [
      "Ημέρα: 0. Το έντομο βρίσκεται στο δωμάτιο: Μπάνιο\n",
      "Ημέρα: 1. Το έντομο βρίσκεται στο δωμάτιο: Σαλόνι\n",
      "Ημέρα: 2. Το έντομο βρίσκεται στο δωμάτιο: Βιβλιοθήκη\n",
      "Ημέρα: 3. Το έντομο βρίσκεται στο δωμάτιο: Σαλόνι\n",
      "Ημέρα: 4. Το έντομο βρίσκεται στο δωμάτιο: Βιβλιοθήκη\n",
      "Ημέρα: 5. Το έντομο βρίσκεται στο δωμάτιο: Κουζίνα\n",
      "Ημέρα: 6. Το έντομο βρίσκεται στο δωμάτιο: Σαλόνι\n",
      "Ημέρα: 7. Το έντομο βρίσκεται στο δωμάτιο: Υπνοδωμάτιο\n",
      "Ημέρα: 8. Το έντομο βρίσκεται στο δωμάτιο: Σαλόνι\n",
      "Ημέρα: 9. Το έντομο βρίσκεται στο δωμάτιο: Κουζίνα\n",
      "Ημέρα: 10. Το έντομο βρίσκεται στο δωμάτιο: Σαλόνι\n"
     ]
    }
   ],
   "source": [
    "from simple_markov_chain_lib import markov_chain  # import markov chain simulator\n",
    "##################\n",
    "rooms = {'Κ':'Κουζίνα',     'Β':'Βιβλιοθήκη', 'Σ':'Σαλόνι', \n",
    "         'Υ':'Υπνοδωμάτιο', 'Μ':'Μπάνιο'} \n",
    "##################\n",
    "# Transition Table\n",
    "markov_table = {\n",
    "    'Κ': {'Β': .5, 'Σ': .5},\n",
    "    'Β': {'Κ': .5, 'Σ': .5},\n",
    "    'Σ': {'Κ':.25, 'Β':.25, 'Υ':.25, 'Μ':.25},\n",
    "    'Υ': {'Σ': 1.},\n",
    "    'Μ': {'Σ': 1.}\n",
    "}\n",
    "\n",
    "# Initial Distribution\n",
    "init_dist = {'Μ': 1.}  # we start from state M with probability 1\n",
    "\n",
    "mc = markov_chain(markov_table, init_dist)\n",
    "\n",
    "mc.start()\n",
    "print(\"Ημέρα: {}. Το έντομο βρίσκεται στο δωμάτιο: {}\".format(mc.steps, rooms[mc.running_state]))\n",
    "for i in range(10):\n",
    "    mc.move()\n",
    "    print(\"Ημέρα: {}. Το έντομο βρίσκεται στο δωμάτιο: {}\".format(mc.steps, rooms[mc.running_state]))\n",
    "    \n",
    "for i in range(10):\n",
    "    mc.move()"
   ]
  },
  {
   "cell_type": "markdown",
   "metadata": {},
   "source": [
    "Όπως ήταν αναμενόμενο, αρχικοποιώντας την αλυσίδα την στιγμή 0, το έντομο βρίσκεται στο μπάνιο. Στην συνέχεια τυπώνονται στο τερματικό τα 10 πρώτα στυγμιότυπα. Οι μεταβάσεις γίνονται σύμφωνα με τον πίνακα και τυπώνεται στο τερματικό η κάθε κατάσταση. Στην συνέχεια γίνονται άλλα 10 βήματα και το πρόγραμμα τερματίζει. \n",
    "\n",
    "Επαληθεύουμε ότι έχουν γίνει 20 βήματα:"
   ]
  },
  {
   "cell_type": "code",
   "execution_count": 32,
   "metadata": {},
   "outputs": [
    {
     "data": {
      "text/plain": [
       "20"
      ]
     },
     "execution_count": 32,
     "metadata": {},
     "output_type": "execute_result"
    }
   ],
   "source": [
    "mc.steps"
   ]
  },
  {
   "cell_type": "markdown",
   "metadata": {},
   "source": [
    "Και η αλυσίδα βρίσκεται στην κατάσταση:"
   ]
  },
  {
   "cell_type": "code",
   "execution_count": 35,
   "metadata": {},
   "outputs": [
    {
     "data": {
      "text/plain": [
       "'Σαλόνι'"
      ]
     },
     "execution_count": 35,
     "metadata": {},
     "output_type": "execute_result"
    }
   ],
   "source": [
    "rooms[mc.running_state]"
   ]
  },
  {
   "cell_type": "code",
   "execution_count": null,
   "metadata": {},
   "outputs": [],
   "source": []
  }
 ],
 "metadata": {
  "kernelspec": {
   "display_name": "Python 3",
   "language": "python",
   "name": "python3"
  },
  "language_info": {
   "codemirror_mode": {
    "name": "ipython",
    "version": 3
   },
   "file_extension": ".py",
   "mimetype": "text/x-python",
   "name": "python",
   "nbconvert_exporter": "python",
   "pygments_lexer": "ipython3",
   "version": "3.9.2"
  }
 },
 "nbformat": 4,
 "nbformat_minor": 4
}
